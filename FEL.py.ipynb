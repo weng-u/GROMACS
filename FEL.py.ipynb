{
 "cells": [
  {
   "cell_type": "code",
   "execution_count": 11,
   "metadata": {
    "collapsed": true
   },
   "outputs": [],
   "source": [
    "import numpy as np\n",
    "import pandas as pd\n",
    "import matplotlib.pyplot as plt\n",
    "import seaborn as sns\n",
    "from matplotlib.ticker import MultipleLocator\n",
    "from matplotlib import cm\n",
    "from matplotlib.ticker import FuncFormatter\n",
    "from pylab import *"
   ]
  },
  {
   "cell_type": "code",
   "execution_count": 12,
   "metadata": {
    "scrolled": true
   },
   "outputs": [],
   "source": [
    "rc('font', family='Times New Roman')\n",
    "proj1_2ajf = np.loadtxt(r'C:\\Users\\59468\\Desktop\\dist\\6m0j\\6m0j.xvg', comments = ['#','@'])\n",
    "proj2_2ajf = np.loadtxt(r'C:\\Users\\59468\\Desktop\\dist\\c-RMSD\\rmsd\\6m0j-rmsd-c.xvg', comments = ['#','@'])"
   ]
  },
  {
   "cell_type": "code",
   "execution_count": 13,
   "metadata": {},
   "outputs": [
    {
     "data": {
      "text/plain": [
       "array([ 2.1657,  2.172 ,  2.1831, ...,  2.0116,  2.0527,  2.0488])"
      ]
     },
     "execution_count": 13,
     "metadata": {},
     "output_type": "execute_result"
    }
   ],
   "source": [
    "proj1_2ajf"
   ]
  },
  {
   "cell_type": "code",
   "execution_count": 14,
   "metadata": {
    "collapsed": true
   },
   "outputs": [],
   "source": [
    "cmap = cm.colors.LinearSegmentedColormap.from_list('new_map',[cm.nipy_spectral(i) for i in range(0,256,1)]+[('white')],22)\n",
    "fig, ax = plt.subplots(figsize=(8,6), dpi=480)\n",
    "\n",
    "font1 = {'family':'Times New Roman',\n",
    "         'weight':'normal',\n",
    "         'size':'18'}\n",
    "font2 = {'family':'Times New Roman',\n",
    "         'weight':'normal',\n",
    "         'size':'20'}\n",
    "font3 = {'family':'Times New Roman',\n",
    "         'size':'18'}\n",
    "\n",
    "z, xedge, yedge = np.histogram2d(np.array(proj1_2ajf[:-4]), np.array(proj2_2ajf[:-4]), bins=60, range=[[1,3],[0,0.5]])\n",
    "#平均x,y轴\n",
    "x = 0.5*(xedge[:-1] + xedge[1:])\n",
    "y = 0.5*(yedge[:-1] + yedge[1:])\n",
    "\n",
    "#值为1.0\n",
    "zmin_nonzero = np.min(z[np.where(z > 0)])\n",
    "#使得最小化z值为1\n",
    "z = np.maximum(z, zmin_nonzero)\n",
    "# F = kbTln(p)；-2.479？\n",
    "F = -2.479 * np.log(z)\n",
    "F -= np.max(F)\n",
    "F = np.minimum(F, 0)\n",
    "\n",
    "extent = [yedge[0], yedge[-1], xedge[0], xedge[-1]]\n",
    "#contours = plt.contour(x, y, F.T, 5, colors='black')\n",
    "#plt.clabel(contours, inline=True, fontsize=12)\n",
    "plt.contourf(x, y, F.T, 200, cmap=cmap,extent=extent,levels=[i for i in range(-23,0,1)]+[0] )\n",
    "#plt.colorbar()\n",
    "#extent = [yedge[0], yedge[-1], xedge[0], xedge[-1]]\n",
    "#contours = plt.contour(x, y, F.T, 5, colors='black')\n",
    "#plt.clabel(contours,inline=True,origin='lower', cmap=cm.jet, extent=extent)\n",
    "#plt.imshow(F.T, origin='lower', cmap=cm.jet, extent=extent)\n",
    "\n",
    "#def formatnum(x, pos):\n",
    "#    return '%.1fx10$^{-3}$' % (x*1000)\n",
    "#formatter = FuncFormatter(formatnum)\n",
    "#ax.yaxis.set_major_formatter(formatter)\n",
    "\n",
    "labels = ax.get_xticklabels() + ax.get_yticklabels()\n",
    "for label in labels:\n",
    "    label.set_fontname('Times New Roman') \n",
    "        \n",
    "plt.tick_params(which=\"major\", labelsize=18,direction='out',width=1.5, length=5)\n",
    "plt.tick_params(which=\"minor\", labelsize=18,direction='out',width=1.5, length=3)\n",
    "\n",
    "ax.spines[\"left\"].set_linewidth(1.5)\n",
    "ax.spines[\"right\"].set_linewidth(1.5)\n",
    "ax.spines[\"top\"].set_linewidth(1.5)\n",
    "ax.spines[\"bottom\"].set_linewidth(1.5)\n",
    "\n",
    "ax.xaxis.set_major_locator(MultipleLocator(0.5))\n",
    "ax.xaxis.set_minor_locator(MultipleLocator(0.25))\n",
    "ax.yaxis.set_major_locator(MultipleLocator(0.1))\n",
    "ax.yaxis.set_minor_locator(MultipleLocator(0.05))\n",
    "\n",
    "clb = plt.colorbar()\n",
    "clb.set_ticks([i for i in range(-22,1,1)][::-2])\n",
    "clb.ax.tick_params(labelsize=16,width=1.5)\n",
    "clb.set_label(\"\\nFree energy  (kJ/mol)\", fontdict=font1)\n",
    "\n",
    "xlim(1, 3)\n",
    "ylim(0, 0.5)\n",
    "#ax.set_xlabel('Time  (ns)', font2)\n",
    "#ax.set_ylabel('RMSD  (nm)', font2)\n",
    "#图内对象图标的设置\n",
    "#plt.legend(loc = 2,prop=font3,shadow=None)\n",
    "\n",
    "ax.set_xlabel('Mean Distance (nm)',font2)\n",
    "ax.set_ylabel('RMSD (nm)',font2)\n",
    "\n",
    "plt.tight_layout()\n",
    "plt.savefig('6m0j-ace.png')"
   ]
  },
  {
   "cell_type": "code",
   "execution_count": null,
   "metadata": {
    "collapsed": true
   },
   "outputs": [],
   "source": []
  },
  {
   "cell_type": "code",
   "execution_count": null,
   "metadata": {
    "collapsed": true
   },
   "outputs": [],
   "source": []
  }
 ],
 "metadata": {
  "kernelspec": {
   "display_name": "Python 3",
   "language": "python",
   "name": "python3"
  },
  "language_info": {
   "codemirror_mode": {
    "name": "ipython",
    "version": 3
   },
   "file_extension": ".py",
   "mimetype": "text/x-python",
   "name": "python",
   "nbconvert_exporter": "python",
   "pygments_lexer": "ipython3",
   "version": "3.6.3"
  }
 },
 "nbformat": 4,
 "nbformat_minor": 2
}
